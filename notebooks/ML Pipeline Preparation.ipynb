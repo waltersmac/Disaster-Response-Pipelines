{
 "cells": [
  {
   "cell_type": "markdown",
   "metadata": {},
   "source": [
    "# ML Pipeline Preparation\n",
    "Follow the instructions below to help you create your ML pipeline.\n",
    "### 1. Import libraries and load data from database.\n",
    "- Import Python libraries\n",
    "- Load dataset from database with [`read_sql_table`](https://pandas.pydata.org/pandas-docs/stable/generated/pandas.read_sql_table.html)\n",
    "- Define feature and target variables X and Y"
   ]
  },
  {
   "cell_type": "code",
   "execution_count": 1,
   "metadata": {},
   "outputs": [
    {
     "name": "stderr",
     "output_type": "stream",
     "text": [
      "[nltk_data] Downloading package punkt to /root/nltk_data...\n",
      "[nltk_data]   Package punkt is already up-to-date!\n",
      "[nltk_data] Downloading package wordnet to /root/nltk_data...\n",
      "[nltk_data]   Package wordnet is already up-to-date!\n",
      "[nltk_data] Downloading package stopwords to /root/nltk_data...\n",
      "[nltk_data]   Package stopwords is already up-to-date!\n"
     ]
    },
    {
     "data": {
      "text/plain": [
       "True"
      ]
     },
     "execution_count": 1,
     "metadata": {},
     "output_type": "execute_result"
    }
   ],
   "source": [
    "# import libraries\n",
    "import nltk\n",
    "from nltk.corpus import stopwords\n",
    "nltk.download(['punkt', 'wordnet','stopwords'])"
   ]
  },
  {
   "cell_type": "code",
   "execution_count": 2,
   "metadata": {},
   "outputs": [],
   "source": [
    "import os\n",
    "import re\n",
    "import time\n",
    "import numpy as np\n",
    "import pandas as pd\n",
    "import matplotlib.pyplot as plt\n",
    "%matplotlib inline\n",
    "\n",
    "from nltk.tokenize import word_tokenize\n",
    "from nltk.stem import WordNetLemmatizer\n",
    "\n",
    "import warnings\n",
    "warnings.filterwarnings('ignore')\n",
    "\n",
    "from sklearn import preprocessing\n",
    "from lightgbm import LGBMClassifier\n",
    "from sklearn.svm import LinearSVC\n",
    "from sklearn.pipeline import Pipeline, FeatureUnion\n",
    "from sklearn.ensemble import RandomForestClassifier\n",
    "from sklearn.multioutput import MultiOutputClassifier, ClassifierChain\n",
    "from sklearn.linear_model import RidgeClassifier\n",
    "from sklearn.metrics import f1_score, classification_report, make_scorer\n",
    "from sklearn.model_selection import train_test_split, GridSearchCV, cross_val_score, RandomizedSearchCV\n",
    "from sklearn.feature_extraction.text import CountVectorizer, TfidfTransformer, TfidfVectorizer\n",
    "from sklearn import set_config    # To change display\n",
    "\n",
    "from sqlalchemy import create_engine"
   ]
  },
  {
   "cell_type": "code",
   "execution_count": 3,
   "metadata": {},
   "outputs": [],
   "source": [
    "db_path = os.path.join(os.path.abspath('../data/'), 'DisasterResponse.db')\n",
    "db_uri = 'sqlite:///{}'.format(db_path)\n",
    "\n",
    "# load data from database\n",
    "engine = create_engine(db_uri)\n",
    "df = pd.read_sql_table('ResponseTable', con=engine)\n",
    "df = df.set_index('id')\n",
    "X = df['message']\n",
    "y = df.iloc[:,3:]"
   ]
  },
  {
   "cell_type": "code",
   "execution_count": 4,
   "metadata": {},
   "outputs": [
    {
     "data": {
      "text/html": [
       "<div>\n",
       "<style scoped>\n",
       "    .dataframe tbody tr th:only-of-type {\n",
       "        vertical-align: middle;\n",
       "    }\n",
       "\n",
       "    .dataframe tbody tr th {\n",
       "        vertical-align: top;\n",
       "    }\n",
       "\n",
       "    .dataframe thead th {\n",
       "        text-align: right;\n",
       "    }\n",
       "</style>\n",
       "<table border=\"1\" class=\"dataframe\">\n",
       "  <thead>\n",
       "    <tr style=\"text-align: right;\">\n",
       "      <th></th>\n",
       "      <th>message</th>\n",
       "      <th>original</th>\n",
       "      <th>genre</th>\n",
       "      <th>related</th>\n",
       "      <th>request</th>\n",
       "      <th>offer</th>\n",
       "      <th>aid_related</th>\n",
       "      <th>medical_help</th>\n",
       "      <th>medical_products</th>\n",
       "      <th>search_and_rescue</th>\n",
       "      <th>...</th>\n",
       "      <th>aid_centers</th>\n",
       "      <th>other_infrastructure</th>\n",
       "      <th>weather_related</th>\n",
       "      <th>floods</th>\n",
       "      <th>storm</th>\n",
       "      <th>fire</th>\n",
       "      <th>earthquake</th>\n",
       "      <th>cold</th>\n",
       "      <th>other_weather</th>\n",
       "      <th>direct_report</th>\n",
       "    </tr>\n",
       "    <tr>\n",
       "      <th>id</th>\n",
       "      <th></th>\n",
       "      <th></th>\n",
       "      <th></th>\n",
       "      <th></th>\n",
       "      <th></th>\n",
       "      <th></th>\n",
       "      <th></th>\n",
       "      <th></th>\n",
       "      <th></th>\n",
       "      <th></th>\n",
       "      <th></th>\n",
       "      <th></th>\n",
       "      <th></th>\n",
       "      <th></th>\n",
       "      <th></th>\n",
       "      <th></th>\n",
       "      <th></th>\n",
       "      <th></th>\n",
       "      <th></th>\n",
       "      <th></th>\n",
       "      <th></th>\n",
       "    </tr>\n",
       "  </thead>\n",
       "  <tbody>\n",
       "    <tr>\n",
       "      <th>2</th>\n",
       "      <td>Weather update - a cold front from Cuba that c...</td>\n",
       "      <td>Un front froid se retrouve sur Cuba ce matin. ...</td>\n",
       "      <td>direct</td>\n",
       "      <td>1</td>\n",
       "      <td>0</td>\n",
       "      <td>0</td>\n",
       "      <td>0</td>\n",
       "      <td>0</td>\n",
       "      <td>0</td>\n",
       "      <td>0</td>\n",
       "      <td>...</td>\n",
       "      <td>0</td>\n",
       "      <td>0</td>\n",
       "      <td>0</td>\n",
       "      <td>0</td>\n",
       "      <td>0</td>\n",
       "      <td>0</td>\n",
       "      <td>0</td>\n",
       "      <td>0</td>\n",
       "      <td>0</td>\n",
       "      <td>0</td>\n",
       "    </tr>\n",
       "    <tr>\n",
       "      <th>7</th>\n",
       "      <td>Is the Hurricane over or is it not over</td>\n",
       "      <td>Cyclone nan fini osinon li pa fini</td>\n",
       "      <td>direct</td>\n",
       "      <td>1</td>\n",
       "      <td>0</td>\n",
       "      <td>0</td>\n",
       "      <td>1</td>\n",
       "      <td>0</td>\n",
       "      <td>0</td>\n",
       "      <td>0</td>\n",
       "      <td>...</td>\n",
       "      <td>0</td>\n",
       "      <td>0</td>\n",
       "      <td>1</td>\n",
       "      <td>0</td>\n",
       "      <td>1</td>\n",
       "      <td>0</td>\n",
       "      <td>0</td>\n",
       "      <td>0</td>\n",
       "      <td>0</td>\n",
       "      <td>0</td>\n",
       "    </tr>\n",
       "    <tr>\n",
       "      <th>8</th>\n",
       "      <td>Looking for someone but no name</td>\n",
       "      <td>Patnm, di Maryani relem pou li banm nouvel li ...</td>\n",
       "      <td>direct</td>\n",
       "      <td>1</td>\n",
       "      <td>0</td>\n",
       "      <td>0</td>\n",
       "      <td>0</td>\n",
       "      <td>0</td>\n",
       "      <td>0</td>\n",
       "      <td>0</td>\n",
       "      <td>...</td>\n",
       "      <td>0</td>\n",
       "      <td>0</td>\n",
       "      <td>0</td>\n",
       "      <td>0</td>\n",
       "      <td>0</td>\n",
       "      <td>0</td>\n",
       "      <td>0</td>\n",
       "      <td>0</td>\n",
       "      <td>0</td>\n",
       "      <td>0</td>\n",
       "    </tr>\n",
       "    <tr>\n",
       "      <th>9</th>\n",
       "      <td>UN reports Leogane 80-90 destroyed. Only Hospi...</td>\n",
       "      <td>UN reports Leogane 80-90 destroyed. Only Hospi...</td>\n",
       "      <td>direct</td>\n",
       "      <td>1</td>\n",
       "      <td>1</td>\n",
       "      <td>0</td>\n",
       "      <td>1</td>\n",
       "      <td>0</td>\n",
       "      <td>1</td>\n",
       "      <td>0</td>\n",
       "      <td>...</td>\n",
       "      <td>0</td>\n",
       "      <td>0</td>\n",
       "      <td>0</td>\n",
       "      <td>0</td>\n",
       "      <td>0</td>\n",
       "      <td>0</td>\n",
       "      <td>0</td>\n",
       "      <td>0</td>\n",
       "      <td>0</td>\n",
       "      <td>0</td>\n",
       "    </tr>\n",
       "    <tr>\n",
       "      <th>12</th>\n",
       "      <td>says: west side of Haiti, rest of the country ...</td>\n",
       "      <td>facade ouest d Haiti et le reste du pays aujou...</td>\n",
       "      <td>direct</td>\n",
       "      <td>1</td>\n",
       "      <td>0</td>\n",
       "      <td>0</td>\n",
       "      <td>0</td>\n",
       "      <td>0</td>\n",
       "      <td>0</td>\n",
       "      <td>0</td>\n",
       "      <td>...</td>\n",
       "      <td>0</td>\n",
       "      <td>0</td>\n",
       "      <td>0</td>\n",
       "      <td>0</td>\n",
       "      <td>0</td>\n",
       "      <td>0</td>\n",
       "      <td>0</td>\n",
       "      <td>0</td>\n",
       "      <td>0</td>\n",
       "      <td>0</td>\n",
       "    </tr>\n",
       "  </tbody>\n",
       "</table>\n",
       "<p>5 rows × 39 columns</p>\n",
       "</div>"
      ],
      "text/plain": [
       "                                              message  \\\n",
       "id                                                      \n",
       "2   Weather update - a cold front from Cuba that c...   \n",
       "7             Is the Hurricane over or is it not over   \n",
       "8                     Looking for someone but no name   \n",
       "9   UN reports Leogane 80-90 destroyed. Only Hospi...   \n",
       "12  says: west side of Haiti, rest of the country ...   \n",
       "\n",
       "                                             original   genre  related  \\\n",
       "id                                                                       \n",
       "2   Un front froid se retrouve sur Cuba ce matin. ...  direct        1   \n",
       "7                  Cyclone nan fini osinon li pa fini  direct        1   \n",
       "8   Patnm, di Maryani relem pou li banm nouvel li ...  direct        1   \n",
       "9   UN reports Leogane 80-90 destroyed. Only Hospi...  direct        1   \n",
       "12  facade ouest d Haiti et le reste du pays aujou...  direct        1   \n",
       "\n",
       "    request  offer  aid_related  medical_help  medical_products  \\\n",
       "id                                                                \n",
       "2         0      0            0             0                 0   \n",
       "7         0      0            1             0                 0   \n",
       "8         0      0            0             0                 0   \n",
       "9         1      0            1             0                 1   \n",
       "12        0      0            0             0                 0   \n",
       "\n",
       "    search_and_rescue  ...  aid_centers  other_infrastructure  \\\n",
       "id                     ...                                      \n",
       "2                   0  ...            0                     0   \n",
       "7                   0  ...            0                     0   \n",
       "8                   0  ...            0                     0   \n",
       "9                   0  ...            0                     0   \n",
       "12                  0  ...            0                     0   \n",
       "\n",
       "    weather_related  floods  storm  fire  earthquake  cold  other_weather  \\\n",
       "id                                                                          \n",
       "2                 0       0      0     0           0     0              0   \n",
       "7                 1       0      1     0           0     0              0   \n",
       "8                 0       0      0     0           0     0              0   \n",
       "9                 0       0      0     0           0     0              0   \n",
       "12                0       0      0     0           0     0              0   \n",
       "\n",
       "    direct_report  \n",
       "id                 \n",
       "2               0  \n",
       "7               0  \n",
       "8               0  \n",
       "9               0  \n",
       "12              0  \n",
       "\n",
       "[5 rows x 39 columns]"
      ]
     },
     "execution_count": 4,
     "metadata": {},
     "output_type": "execute_result"
    }
   ],
   "source": [
    "df.head()"
   ]
  },
  {
   "cell_type": "markdown",
   "metadata": {},
   "source": [
    "### 2. Write a tokenization function to process your text data"
   ]
  },
  {
   "cell_type": "code",
   "execution_count": 5,
   "metadata": {},
   "outputs": [],
   "source": [
    "def tokenize(text):\n",
    "    \n",
    "    \"\"\"\n",
    "    Function for process the text data\n",
    "    so that it is ready for the training\n",
    "    \n",
    "    Parameters:\n",
    "    \n",
    "    Text\n",
    "    \n",
    "    Returns:\n",
    "    \n",
    "    Cleaned data\n",
    "    \n",
    "    \"\"\"\n",
    "\n",
    "    tokens = word_tokenize(text)\n",
    "    lemmatizer = WordNetLemmatizer()\n",
    "\n",
    "    clean_tokens = []\n",
    "    for tok in tokens:\n",
    "        clean_tok = lemmatizer.lemmatize(tok).lower().strip()\n",
    "        clean_tokens.append(clean_tok)\n",
    "\n",
    "    return clean_tokens"
   ]
  },
  {
   "cell_type": "markdown",
   "metadata": {},
   "source": [
    "### 3. Build a machine learning pipeline\n",
    "This machine pipeline should take in the `message` column as input and output classification results on the other 36 categories in the dataset. You may find the [MultiOutputClassifier](http://scikit-learn.org/stable/modules/generated/sklearn.multioutput.MultiOutputClassifier.html) helpful for predicting multiple target variables."
   ]
  },
  {
   "cell_type": "code",
   "execution_count": 6,
   "metadata": {},
   "outputs": [],
   "source": [
    "# Random Forest Classifier - MultiOutputClassifier pipeline\n",
    "pipeline_rf = Pipeline([\n",
    "    ('vect', CountVectorizer(tokenizer=tokenize)),\n",
    "    ('tfidf', TfidfTransformer()),\n",
    "    ('clf', MultiOutputClassifier(RandomForestClassifier(n_jobs=5)))\n",
    "])\n",
    "\n",
    "# LightGBM Classifier - MultiOutputClassifier pipeline\n",
    "pipeline_lgb = Pipeline([\n",
    "    ('tfidfvect', TfidfVectorizer(tokenizer=tokenize)),\n",
    "    ('multiclassifier',MultiOutputClassifier(LGBMClassifier(n_jobs=5)))\n",
    "])\n",
    "\n",
    "# LightGBM Classifier - ClassifierChain pipeline\n",
    "pipeline_chain_lgb = Pipeline([\n",
    "    ('tfidfvect', TfidfVectorizer(tokenizer=tokenize)),\n",
    "    ('classifierchain',ClassifierChain(LGBMClassifier(n_jobs=5)))\n",
    "])\n",
    "\n",
    "# LinearSVC Classifier - MultiOutputClassifier pipeline\n",
    "pipeline_svc = Pipeline([\n",
    "    ('tfidfvect', TfidfVectorizer(tokenizer=tokenize)),\n",
    "    ('classifierchain',MultiOutputClassifier(LinearSVC(n_jobs=5)))\n",
    "])"
   ]
  },
  {
   "cell_type": "code",
   "execution_count": 7,
   "metadata": {},
   "outputs": [],
   "source": [
    "# Pipeline dictionary\n",
    "pipeline_dict = {'pipeline_rf': pipeline_rf, \\\n",
    "                 'pipeline_lgb ': pipeline_lgb, \\\n",
    "                 'pipeline_chain_lgb': pipeline_chain_lgb \\\n",
    "                 'pipeline_svc': pipeline_svc\n",
    "                 }"
   ]
  },
  {
   "cell_type": "markdown",
   "metadata": {},
   "source": [
    "### 4. Train various pipelines\n",
    "- Split data into train and test sets\n",
    "- Train pipeline"
   ]
  },
  {
   "cell_type": "code",
   "execution_count": 8,
   "metadata": {},
   "outputs": [],
   "source": [
    "X_train, X_test, y_train, y_test = train_test_split(X, y, test_size=0.2, random_state=42)"
   ]
  },
  {
   "cell_type": "code",
   "execution_count": 9,
   "metadata": {},
   "outputs": [],
   "source": [
    "# set config to diagram for visualizing the pipelines/composite estimators\n",
    "set_config(display='diagram') #'text'\n",
    "\n",
    "\n",
    "def display_scores(model_dict, X_train, y_train):\n",
    "    \n",
    "    \"\"\"\n",
    "    Function for applying the cross validation score\n",
    "    \n",
    "    Parameters:\n",
    "    \n",
    "    models, X_train, y_train\n",
    "    \n",
    "    Returns:\n",
    "    \n",
    "    f1 - Scores and Average\n",
    "    \n",
    "    \"\"\"\n",
    "    \n",
    "    # cross validation for F1 score\n",
    "    results = {} \n",
    "\n",
    "    for pipename, pipevalue in pipeline_dict.items() :\n",
    "        start_time = time.time()\n",
    "        print (\"Training pipeline : {} ...\".format(pipename))\n",
    "        scores = cross_val_score(pipevalue, X_train, y_train, scoring='f1_weighted', cv=5)\n",
    "        results[pipename] = scores.mean()\n",
    "        print (\"Pipeline : {} F1 mean score {}\".format(pipename, scores.mean()))\n",
    "        time_taken = round(((time.time() - start_time) / 60),3)\n",
    "        print(\"--- \" + str(time_taken) + \" minutes ---\")\n",
    "        \n",
    "    return results"
   ]
  },
  {
   "cell_type": "code",
   "execution_count": 10,
   "metadata": {},
   "outputs": [
    {
     "name": "stdout",
     "output_type": "stream",
     "text": [
      "Training pipeline : pipeline_rf ...\n",
      "Pipeline : pipeline_rf F1 mean score 0.5298388562808923\n",
      "--- 7.057 minutes ---\n",
      "Training pipeline : pipeline_lgb  ...\n",
      "Pipeline : pipeline_lgb  F1 mean score 0.6547367307689326\n",
      "--- 6.262 minutes ---\n",
      "Training pipeline : pipeline_chain_lgb ...\n",
      "Pipeline : pipeline_chain_lgb F1 mean score 0.6682756106393972\n",
      "--- 6.634 minutes ---\n"
     ]
    }
   ],
   "source": [
    "f1_scores = display_scores(pipeline_dict, X_train, y_train)"
   ]
  },
  {
   "cell_type": "code",
   "execution_count": 11,
   "metadata": {},
   "outputs": [
    {
     "data": {
      "text/plain": [
       "{'pipeline_rf': 0.5298388562808923,\n",
       " 'pipeline_lgb ': 0.6547367307689326,\n",
       " 'pipeline_chain_lgb': 0.6682756106393972}"
      ]
     },
     "execution_count": 11,
     "metadata": {},
     "output_type": "execute_result"
    }
   ],
   "source": [
    "f1_scores"
   ]
  },
  {
   "cell_type": "markdown",
   "metadata": {},
   "source": [
    "### 5. Test your model\n",
    "Report the f1 score, precision and recall for each output category of the dataset. You can do this by iterating through the columns and calling sklearn's `classification_report` on each."
   ]
  },
  {
   "cell_type": "code",
   "execution_count": 12,
   "metadata": {},
   "outputs": [
    {
     "data": {
      "image/png": "[encoded data removed]",
      "text/plain": [
       "<Figure size 864x360 with 1 Axes>"
      ]
     },
     "metadata": {
      "needs_background": "light"
     },
     "output_type": "display_data"
    }
   ],
   "source": [
    "# Results and Best pipeline\n",
    "best_pipeline_name = max(f1_scores, key=f1_scores.get)\n",
    "\n",
    "ax = pd.DataFrame.from_dict(f1_scores, orient='index').plot.barh(figsize=(12,5))\n",
    "ax.set_xlabel(\"CV F1 Mean Scores\")\n",
    "ax.set_ylabel(\"Pipelines\")\n",
    "ax.set_title('Pipeline Training Results - best results '+ best_pipeline_name)\n",
    "plt.show()"
   ]
  },
  {
   "cell_type": "code",
   "execution_count": 13,
   "metadata": {},
   "outputs": [],
   "source": [
    "# Train best pipline\n",
    "best_pipeline = pipeline_dict[best_pipeline_name]"
   ]
  },
  {
   "cell_type": "code",
   "execution_count": 14,
   "metadata": {},
   "outputs": [
    {
     "data": {
      "text/html": [
       "<style>div.sk-top-container {color: black;background-color: white;}div.sk-toggleable {background-color: white;}label.sk-toggleable__label {cursor: pointer;display: block;width: 100%;margin-bottom: 0;padding: 0.2em 0.3em;box-sizing: border-box;text-align: center;}div.sk-toggleable__content {max-height: 0;max-width: 0;overflow: hidden;text-align: left;background-color: #f0f8ff;}div.sk-toggleable__content pre {margin: 0.2em;color: black;border-radius: 0.25em;background-color: #f0f8ff;}input.sk-toggleable__control:checked~div.sk-toggleable__content {max-height: 200px;max-width: 100%;overflow: auto;}div.sk-estimator input.sk-toggleable__control:checked~label.sk-toggleable__label {background-color: #d4ebff;}div.sk-label input.sk-toggleable__control:checked~label.sk-toggleable__label {background-color: #d4ebff;}input.sk-hidden--visually {border: 0;clip: rect(1px 1px 1px 1px);clip: rect(1px, 1px, 1px, 1px);height: 1px;margin: -1px;overflow: hidden;padding: 0;position: absolute;width: 1px;}div.sk-estimator {font-family: monospace;background-color: #f0f8ff;margin: 0.25em 0.25em;border: 1px dotted black;border-radius: 0.25em;box-sizing: border-box;}div.sk-estimator:hover {background-color: #d4ebff;}div.sk-parallel-item::after {content: \"\";width: 100%;border-bottom: 1px solid gray;flex-grow: 1;}div.sk-label:hover label.sk-toggleable__label {background-color: #d4ebff;}div.sk-serial::before {content: \"\";position: absolute;border-left: 1px solid gray;box-sizing: border-box;top: 2em;bottom: 0;left: 50%;}div.sk-serial {display: flex;flex-direction: column;align-items: center;background-color: white;}div.sk-item {z-index: 1;}div.sk-parallel {display: flex;align-items: stretch;justify-content: center;background-color: white;}div.sk-parallel-item {display: flex;flex-direction: column;position: relative;background-color: white;}div.sk-parallel-item:first-child::after {align-self: flex-end;width: 50%;}div.sk-parallel-item:last-child::after {align-self: flex-start;width: 50%;}div.sk-parallel-item:only-child::after {width: 0;}div.sk-dashed-wrapped {border: 1px dashed gray;margin: 0.2em;box-sizing: border-box;padding-bottom: 0.1em;background-color: white;position: relative;}div.sk-label label {font-family: monospace;font-weight: bold;background-color: white;display: inline-block;line-height: 1.2em;}div.sk-label-container {position: relative;z-index: 2;text-align: center;}div.sk-container {display: inline-block;position: relative;}</style><div class=\"sk-top-container\"><div class=\"sk-container\"><div class=\"sk-item sk-dashed-wrapped\"><div class=\"sk-label-container\"><div class=\"sk-label sk-toggleable\"><input class=\"sk-toggleable__control sk-hidden--visually\" id=\"f5185aad-54f3-4841-baff-e97559047193\" type=\"checkbox\" ><label class=\"sk-toggleable__label\" for=\"f5185aad-54f3-4841-baff-e97559047193\">Pipeline</label><div class=\"sk-toggleable__content\"><pre>Pipeline(steps=[('tfidfvect',\n",
       "                 TfidfVectorizer(tokenizer=<function tokenize at 0x7fb4ec961680>)),\n",
       "                ('classifierchain',\n",
       "                 ClassifierChain(base_estimator=LGBMClassifier(n_jobs=5)))])</pre></div></div></div><div class=\"sk-serial\"><div class=\"sk-item\"><div class=\"sk-estimator sk-toggleable\"><input class=\"sk-toggleable__control sk-hidden--visually\" id=\"50cddf4b-6be7-43ca-8e32-3657ce7f913f\" type=\"checkbox\" ><label class=\"sk-toggleable__label\" for=\"50cddf4b-6be7-43ca-8e32-3657ce7f913f\">TfidfVectorizer</label><div class=\"sk-toggleable__content\"><pre>TfidfVectorizer(tokenizer=<function tokenize at 0x7fb4ec961680>)</pre></div></div></div><div class=\"sk-item sk-dashed-wrapped\"><div class=\"sk-label-container\"><div class=\"sk-label sk-toggleable\"><input class=\"sk-toggleable__control sk-hidden--visually\" id=\"580b0333-8bdc-4fc6-b70d-e3765966406e\" type=\"checkbox\" ><label class=\"sk-toggleable__label\" for=\"580b0333-8bdc-4fc6-b70d-e3765966406e\">classifierchain: ClassifierChain</label><div class=\"sk-toggleable__content\"><pre>ClassifierChain(base_estimator=LGBMClassifier(n_jobs=5))</pre></div></div></div><div class=\"sk-parallel\"><div class=\"sk-parallel-item\"><div class=\"sk-item\"><div class=\"sk-serial\"><div class=\"sk-item\"><div class=\"sk-estimator sk-toggleable\"><input class=\"sk-toggleable__control sk-hidden--visually\" id=\"2062c386-5ca5-4a45-800f-100ef7f1b457\" type=\"checkbox\" ><label class=\"sk-toggleable__label\" for=\"2062c386-5ca5-4a45-800f-100ef7f1b457\">LGBMClassifier</label><div class=\"sk-toggleable__content\"><pre>LGBMClassifier(n_jobs=5)</pre></div></div></div></div></div></div></div></div></div></div></div></div>"
      ],
      "text/plain": [
       "Pipeline(steps=[('tfidfvect',\n",
       "                 TfidfVectorizer(tokenizer=<function tokenize at 0x7fb4ec961680>)),\n",
       "                ('classifierchain',\n",
       "                 ClassifierChain(base_estimator=LGBMClassifier(n_jobs=5)))])"
      ]
     },
     "execution_count": 14,
     "metadata": {},
     "output_type": "execute_result"
    }
   ],
   "source": [
    "best_pipeline.fit(X_train, y_train)"
   ]
  },
  {
   "cell_type": "code",
   "execution_count": 15,
   "metadata": {
    "scrolled": true
   },
   "outputs": [
    {
     "name": "stdout",
     "output_type": "stream",
     "text": [
      "                        precision    recall  f1-score   support\n",
      "\n",
      "               related       0.86      0.93      0.89      3998\n",
      "               request       0.77      0.65      0.71       891\n",
      "                 offer       0.00      0.00      0.00        24\n",
      "           aid_related       0.75      0.71      0.73      2164\n",
      "          medical_help       0.61      0.42      0.50       435\n",
      "      medical_products       0.65      0.35      0.46       279\n",
      "     search_and_rescue       0.60      0.19      0.29       136\n",
      "              security       0.27      0.03      0.06        96\n",
      "              military       0.53      0.34      0.42       158\n",
      "           child_alone       0.00      0.00      0.00         0\n",
      "                 water       0.73      0.75      0.74       335\n",
      "                  food       0.81      0.82      0.82       584\n",
      "               shelter       0.72      0.66      0.69       468\n",
      "              clothing       0.74      0.40      0.52        70\n",
      "                 money       0.61      0.40      0.48       112\n",
      "        missing_people       0.87      0.21      0.33        63\n",
      "              refugees       0.58      0.31      0.40       170\n",
      "                 death       0.76      0.58      0.66       247\n",
      "             other_aid       0.41      0.35      0.38       692\n",
      "infrastructure_related       0.50      0.08      0.14       336\n",
      "             transport       0.75      0.19      0.31       235\n",
      "             buildings       0.76      0.36      0.49       269\n",
      "           electricity       0.70      0.28      0.40       115\n",
      "                 tools       0.00      0.00      0.00        35\n",
      "             hospitals       0.46      0.12      0.18        52\n",
      "                 shops       1.00      0.04      0.08        25\n",
      "           aid_centers       0.40      0.09      0.15        64\n",
      "  other_infrastructure       0.28      0.04      0.08       225\n",
      "       weather_related       0.85      0.72      0.78      1472\n",
      "                floods       0.86      0.55      0.67       431\n",
      "                 storm       0.73      0.70      0.71       479\n",
      "                  fire       0.65      0.25      0.36        53\n",
      "            earthquake       0.87      0.81      0.84       515\n",
      "                  cold       0.61      0.37      0.46       104\n",
      "         other_weather       0.51      0.20      0.29       267\n",
      "         direct_report       0.70      0.57      0.63      1010\n",
      "\n",
      "             micro avg       0.77      0.65      0.70     16609\n",
      "             macro avg       0.61      0.37      0.43     16609\n",
      "          weighted avg       0.74      0.65      0.68     16609\n",
      "           samples avg       0.62      0.54      0.53     16609\n",
      "\n"
     ]
    }
   ],
   "source": [
    "# predict on test data\n",
    "y_pred = best_pipeline.predict(X_test)\n",
    "\n",
    "# Print Classification Report\n",
    "print(classification_report(y_test, y_pred, target_names= y_test.columns.to_list()))"
   ]
  },
  {
   "cell_type": "markdown",
   "metadata": {},
   "source": [
    "### 6. Improve your model\n",
    "Use grid search to find better parameters. "
   ]
  },
  {
   "cell_type": "code",
   "execution_count": 16,
   "metadata": {},
   "outputs": [
    {
     "name": "stdout",
     "output_type": "stream",
     "text": [
      "Fitting 5 folds for each of 9 candidates, totalling 45 fits\n"
     ]
    }
   ],
   "source": [
    "myscoring = make_scorer(f1_score,average='weighted')\n",
    "\n",
    "parameters = {\n",
    "     'tfidfvect__ngram_range': ((1, 1), (1, 2), (2, 2)),\n",
    "     'tfidfvect__max_df': (0.5, 0.75, 1.0)\n",
    "    }\n",
    "\n",
    "# create grid search object\n",
    "search = GridSearchCV(best_pipeline, parameters, scoring=myscoring, verbose = 1)\n",
    "\n",
    "result = search.fit(X_train, y_train)"
   ]
  },
  {
   "cell_type": "code",
   "execution_count": 17,
   "metadata": {},
   "outputs": [
    {
     "name": "stdout",
     "output_type": "stream",
     "text": [
      "Best Score: 0.672235054615475\n",
      "Best Hyperparameters: {'tfidfvect__max_df': 0.75, 'tfidfvect__ngram_range': (1, 2)}\n"
     ]
    }
   ],
   "source": [
    "# summarize result\n",
    "print('Best Score: %s' % result.best_score_)\n",
    "print('Best Hyperparameters: %s' % result.best_params_)"
   ]
  },
  {
   "cell_type": "code",
   "execution_count": 18,
   "metadata": {},
   "outputs": [
    {
     "data": {
      "text/plain": [
       "\"param search results -> 0.668166 (0.004723) with: {'tfidfvect__max_df': 0.5, 'tfidfvect__ngram_range': (1, 1)}\""
      ]
     },
     "metadata": {},
     "output_type": "display_data"
    },
    {
     "data": {
      "text/plain": [
       "\"param search results -> 0.671516 (0.004658) with: {'tfidfvect__max_df': 0.5, 'tfidfvect__ngram_range': (1, 2)}\""
      ]
     },
     "metadata": {},
     "output_type": "display_data"
    },
    {
     "data": {
      "text/plain": [
       "\"param search results -> 0.576116 (0.001740) with: {'tfidfvect__max_df': 0.5, 'tfidfvect__ngram_range': (2, 2)}\""
      ]
     },
     "metadata": {},
     "output_type": "display_data"
    },
    {
     "data": {
      "text/plain": [
       "\"param search results -> 0.667534 (0.003455) with: {'tfidfvect__max_df': 0.75, 'tfidfvect__ngram_range': (1, 1)}\""
      ]
     },
     "metadata": {},
     "output_type": "display_data"
    },
    {
     "data": {
      "text/plain": [
       "\"param search results -> 0.672235 (0.002893) with: {'tfidfvect__max_df': 0.75, 'tfidfvect__ngram_range': (1, 2)}\""
      ]
     },
     "metadata": {},
     "output_type": "display_data"
    },
    {
     "data": {
      "text/plain": [
       "\"param search results -> 0.576116 (0.001740) with: {'tfidfvect__max_df': 0.75, 'tfidfvect__ngram_range': (2, 2)}\""
      ]
     },
     "metadata": {},
     "output_type": "display_data"
    },
    {
     "data": {
      "text/plain": [
       "\"param search results -> 0.668276 (0.003332) with: {'tfidfvect__max_df': 1.0, 'tfidfvect__ngram_range': (1, 1)}\""
      ]
     },
     "metadata": {},
     "output_type": "display_data"
    },
    {
     "data": {
      "text/plain": [
       "\"param search results -> 0.671781 (0.002836) with: {'tfidfvect__max_df': 1.0, 'tfidfvect__ngram_range': (1, 2)}\""
      ]
     },
     "metadata": {},
     "output_type": "display_data"
    },
    {
     "data": {
      "text/plain": [
       "\"param search results -> 0.576116 (0.001740) with: {'tfidfvect__max_df': 1.0, 'tfidfvect__ngram_range': (2, 2)}\""
      ]
     },
     "metadata": {},
     "output_type": "display_data"
    }
   ],
   "source": [
    "#Print grid search CV results\n",
    "means = search.cv_results_['mean_test_score']\n",
    "stds = search.cv_results_['std_test_score']\n",
    "params = search.cv_results_['params']\n",
    "for mean, stdev, param in zip(means, stds, params):\n",
    "    display(\"param search results -> %f (%f) with: %r\" % (mean, stdev, param))"
   ]
  },
  {
   "cell_type": "code",
   "execution_count": 19,
   "metadata": {},
   "outputs": [
    {
     "data": {
      "text/plain": [
       "Pipeline(steps=[('tfidfvect',\n",
       "                 TfidfVectorizer(max_df=0.75, ngram_range=(1, 2),\n",
       "                                 tokenizer=<function tokenize at 0x7fb4ec961680>)),\n",
       "                ('classifierchain',\n",
       "                 ClassifierChain(base_estimator=LGBMClassifier(n_jobs=5)))])"
      ]
     },
     "execution_count": 19,
     "metadata": {},
     "output_type": "execute_result"
    }
   ],
   "source": [
    "# Best Model with tuned parameters\n",
    "set_config(display='text')\n",
    "\n",
    "best_model_tuned = search.best_estimator_\n",
    "best_model_tuned"
   ]
  },
  {
   "cell_type": "markdown",
   "metadata": {},
   "source": [
    "### 7. Test your model\n",
    "Show the accuracy, precision, and recall of the tuned model.  \n",
    "\n",
    "Since this project focuses on code quality, process, and  pipelines, there is no minimum performance metric needed to pass. However, make sure to fine tune your models for accuracy, precision and recall to make your project stand out - especially for your portfolio!"
   ]
  },
  {
   "cell_type": "code",
   "execution_count": 20,
   "metadata": {},
   "outputs": [
    {
     "name": "stdout",
     "output_type": "stream",
     "text": [
      "                        precision    recall  f1-score   support\n",
      "\n",
      "               related       0.86      0.93      0.89      3998\n",
      "               request       0.75      0.67      0.71       891\n",
      "                 offer       0.00      0.00      0.00        24\n",
      "           aid_related       0.74      0.72      0.73      2164\n",
      "          medical_help       0.58      0.44      0.50       435\n",
      "      medical_products       0.63      0.37      0.47       279\n",
      "     search_and_rescue       0.65      0.23      0.34       136\n",
      "              security       0.24      0.05      0.09        96\n",
      "              military       0.53      0.36      0.43       158\n",
      "           child_alone       0.00      0.00      0.00         0\n",
      "                 water       0.73      0.78      0.75       335\n",
      "                  food       0.80      0.83      0.81       584\n",
      "               shelter       0.71      0.66      0.69       468\n",
      "              clothing       0.72      0.40      0.51        70\n",
      "                 money       0.55      0.40      0.46       112\n",
      "        missing_people       0.87      0.21      0.33        63\n",
      "              refugees       0.62      0.34      0.44       170\n",
      "                 death       0.74      0.57      0.65       247\n",
      "             other_aid       0.39      0.36      0.37       692\n",
      "infrastructure_related       0.40      0.07      0.13       336\n",
      "             transport       0.75      0.20      0.32       235\n",
      "             buildings       0.74      0.41      0.53       269\n",
      "           electricity       0.62      0.27      0.38       115\n",
      "                 tools       0.50      0.03      0.05        35\n",
      "             hospitals       0.43      0.12      0.18        52\n",
      "                 shops       0.00      0.00      0.00        25\n",
      "           aid_centers       0.25      0.05      0.08        64\n",
      "  other_infrastructure       0.26      0.05      0.08       225\n",
      "       weather_related       0.84      0.73      0.78      1472\n",
      "                floods       0.82      0.55      0.66       431\n",
      "                 storm       0.72      0.70      0.71       479\n",
      "                  fire       0.50      0.21      0.29        53\n",
      "            earthquake       0.87      0.82      0.85       515\n",
      "                  cold       0.58      0.33      0.42       104\n",
      "         other_weather       0.45      0.22      0.29       267\n",
      "         direct_report       0.70      0.58      0.64      1010\n",
      "\n",
      "             micro avg       0.76      0.65      0.70     16609\n",
      "             macro avg       0.57      0.38      0.43     16609\n",
      "          weighted avg       0.73      0.65      0.68     16609\n",
      "           samples avg       0.61      0.54      0.53     16609\n",
      "\n"
     ]
    }
   ],
   "source": [
    "# Print Classification Report\n",
    "predictions = best_model_tuned.predict(X_test)\n",
    "print(classification_report(y_test, predictions, target_names= y_test.columns.to_list()))"
   ]
  },
  {
   "cell_type": "markdown",
   "metadata": {},
   "source": [
    "### 8. Try improving your model further. Here are a few ideas:\n",
    "* try other machine learning algorithms\n",
    "* add other features besides the TF-IDF"
   ]
  },
  {
   "cell_type": "code",
   "execution_count": 21,
   "metadata": {},
   "outputs": [],
   "source": [
    "## Please see step 3"
   ]
  },
  {
   "cell_type": "markdown",
   "metadata": {},
   "source": [
    "### 9. Export your model as a pickle file"
   ]
  },
  {
   "cell_type": "code",
   "execution_count": 23,
   "metadata": {},
   "outputs": [
    {
     "name": "stdout",
     "output_type": "stream",
     "text": [
      "Saving model classifier.pkl to directory ../models/\n"
     ]
    }
   ],
   "source": [
    "import pickle\n",
    "from datetime import datetime\n",
    "\n",
    "model_dir = '../models/'\n",
    "\n",
    "model_file = 'classifier.pkl'\n",
    "print(\"Saving model {} to directory {}\".format(model_file,model_dir))\n",
    "pickle.dump(best_model_tuned, open(model_dir+model_file, 'wb'))"
   ]
  },
  {
   "cell_type": "markdown",
   "metadata": {},
   "source": [
    "### 10. Use this notebook to complete `train.py`\n",
    "Use the template file attached in the Resources folder to write a script that runs the steps above to create a database and export a model based on a new dataset specified by the user."
   ]
  },
  {
   "cell_type": "code",
   "execution_count": null,
   "metadata": {},
   "outputs": [],
   "source": []
  }
 ],
 "metadata": {
  "kernelspec": {
   "display_name": "Python 3",
   "language": "python",
   "name": "python3"
  },
  "language_info": {
   "codemirror_mode": {
    "name": "ipython",
    "version": 3
   },
   "file_extension": ".py",
   "mimetype": "text/x-python",
   "name": "python",
   "nbconvert_exporter": "python",
   "pygments_lexer": "ipython3",
   "version": "3.8.8"
  }
 },
 "nbformat": 4,
 "nbformat_minor": 4
}

{
 "cells": [
  {
   "cell_type": "markdown",
   "metadata": {},
   "source": [
    "# ML Pipeline Preparation\n",
    "Follow the instructions below to help you create your ML pipeline.\n",
    "### 1. Import libraries and load data from database.\n",
    "- Import Python libraries\n",
    "- Load dataset from database with [`read_sql_table`](https://pandas.pydata.org/pandas-docs/stable/generated/pandas.read_sql_table.html)\n",
    "- Define feature and target variables X and Y"
   ]
  },
  {
   "cell_type": "code",
   "execution_count": null,
   "metadata": {},
   "outputs": [],
   "source": [
    "# import libraries\n",
    "import nltk\n",
    "from nltk.corpus import stopwords\n",
    "nltk.download(['punkt', 'wordnet','stopwords'])"
   ]
  },
  {
   "cell_type": "code",
   "execution_count": null,
   "metadata": {},
   "outputs": [],
   "source": [
    "import os\n",
    "import re\n",
    "import time\n",
    "import numpy as np\n",
    "import pandas as pd\n",
    "from nltk.tokenize import word_tokenize\n",
    "from nltk.stem import WordNetLemmatizer\n",
    "\n",
    "import warnings\n",
    "warnings.filterwarnings('ignore')\n",
    "\n",
    "from sklearn import preprocessing\n",
    "from lightgbm import LGBMClassifier\n",
    "from sklearn.pipeline import Pipeline, FeatureUnion\n",
    "from sklearn.metrics import confusion_matrix, classification_report\n",
    "from sklearn.ensemble import RandomForestClassifier\n",
    "from sklearn.multioutput import MultiOutputClassifier\n",
    "from sklearn.model_selection import train_test_split, GridSearchCV, cross_val_score\n",
    "from sklearn.feature_extraction.text import CountVectorizer, TfidfTransformer, TfidfVectorizer\n",
    "\n",
    "from sqlalchemy import create_engine"
   ]
  },
  {
   "cell_type": "code",
   "execution_count": null,
   "metadata": {},
   "outputs": [],
   "source": [
    "db_path = os.path.join(os.path.abspath('../data/processed/'), 'ResponseDatabase.db')\n",
    "db_uri = 'sqlite:///{}'.format(db_path)\n",
    "\n",
    "# load data from database\n",
    "engine = create_engine(db_uri)\n",
    "df = pd.read_sql_table('ResponseTable', con=engine)\n",
    "df = df.set_index('id')\n",
    "X = df['message']\n",
    "y = df.iloc[:,3:]"
   ]
  },
  {
   "cell_type": "code",
   "execution_count": null,
   "metadata": {},
   "outputs": [],
   "source": [
    "df.head()"
   ]
  },
  {
   "cell_type": "markdown",
   "metadata": {},
   "source": [
    "### 2. Write a tokenization function to process your text data"
   ]
  },
  {
   "cell_type": "code",
   "execution_count": null,
   "metadata": {},
   "outputs": [],
   "source": [
    "def tokenize(text):\n",
    "    #normalize - Remove punctuation characters\n",
    "    regex = '[^a-zA-Z0-9]'\n",
    "    detect_text = re.findall(regex, text)\n",
    "\n",
    "    #tokenize - split text into words\n",
    "    for list in text:\n",
    "        list = text.replace(regex,\" \")\n",
    "        tokens = word_tokenize(list)\n",
    "\n",
    "    # Remove Stopwords\n",
    "    words = [word for word in tokens if word not in stopwords.words('english')]\n",
    "\n",
    "    #lemanize\n",
    "    lemmatizer = WordNetLemmatizer()\n",
    "    clean_tokens = []\n",
    "\n",
    "    for word in words:\n",
    "        clean_tok = lemmatizer.lemmatize(word).lower().strip()\n",
    "        clean_tokens.append(clean_tok)\n",
    "\n",
    "    return clean_tokens"
   ]
  },
  {
   "cell_type": "markdown",
   "metadata": {},
   "source": [
    "### 3. Build a machine learning pipeline\n",
    "This machine pipeline should take in the `message` column as input and output classification results on the other 36 categories in the dataset. You may find the [MultiOutputClassifier](http://scikit-learn.org/stable/modules/generated/sklearn.multioutput.MultiOutputClassifier.html) helpful for predicting multiple target variables."
   ]
  },
  {
   "cell_type": "code",
   "execution_count": null,
   "metadata": {},
   "outputs": [],
   "source": [
    "# Random Forest Classifier - pipeline\n",
    "pipeline_rf = Pipeline([\n",
    "    ('vect', CountVectorizer(tokenizer=tokenize)),\n",
    "    ('tfidf', TfidfTransformer()),\n",
    "    ('clf', MultiOutputClassifier(RandomForestClassifier(n_jobs=5)))\n",
    "])\n",
    "\n",
    "pipeline_lgb = Pipeline([\n",
    "    ('tfidfvect', TfidfVectorizer(tokenizer=tokenize)),\n",
    "    ('multiclassifier',MultiOutputClassifier(LGBMClassifier(n_jobs=5)))\n",
    "])"
   ]
  },
  {
   "cell_type": "code",
   "execution_count": null,
   "metadata": {},
   "outputs": [],
   "source": [
    "# Pipeline dictionary\n",
    "pipeline_dict = {'pipeline_rf': pipeline_rf, \\\n",
    "                 'pipeline_lgb ': pipeline_lgb }"
   ]
  },
  {
   "cell_type": "markdown",
   "metadata": {},
   "source": [
    "### 4. Train various pipelines\n",
    "- Split data into train and test sets\n",
    "- Train pipeline"
   ]
  },
  {
   "cell_type": "code",
   "execution_count": null,
   "metadata": {},
   "outputs": [],
   "source": [
    "X_train, X_test, y_train, y_test = train_test_split(X, y, test_size=0.2, random_state=42)"
   ]
  },
  {
   "cell_type": "code",
   "execution_count": null,
   "metadata": {},
   "outputs": [],
   "source": [
    "def display_scores(model_dict, X_train, y_train):\n",
    "    \n",
    "    \"\"\"\n",
    "    Function for applying the cross validation score\n",
    "    \n",
    "    Parameters:\n",
    "    \n",
    "    model, X_train, y_train\n",
    "    \n",
    "    Returns:\n",
    "    \n",
    "    f1 - Scores and Average\n",
    "    \n",
    "    \"\"\"\n",
    "    \n",
    "    # cross validation for F1 score\n",
    "    results = {} \n",
    "\n",
    "    for pipename, pipevalue in pipeline_dict.items() :\n",
    "        start_time = time.time()\n",
    "        print (\"Training pipeline : {} ...\".format(pipename))\n",
    "        scores = cross_val_score(pipevalue, X_train, y_train, scoring='f1_weighted', cv=5)\n",
    "        results[pipename] = scores.mean()\n",
    "        print (\"Pipeline : {} F1 mean score {}\".format(pipename, scores.mean()))\n",
    "        time_taken = round(((time.time() - start_time) / 60),3)\n",
    "        print(\"--- \" + str(time_taken) + \" minutes ---\")\n",
    "        \n",
    "    return results"
   ]
  },
  {
   "cell_type": "code",
   "execution_count": null,
   "metadata": {},
   "outputs": [],
   "source": [
    "pipeline_f1_score = display_scores(pipeline_dict, X_train, y_train)"
   ]
  },
  {
   "cell_type": "code",
   "execution_count": null,
   "metadata": {},
   "outputs": [],
   "source": [
    "pipeline_f1_score"
   ]
  },
  {
   "cell_type": "markdown",
   "metadata": {},
   "source": [
    "### 5. Test your model\n",
    "Report the f1 score, precision and recall for each output category of the dataset. You can do this by iterating through the columns and calling sklearn's `classification_report` on each."
   ]
  },
  {
   "cell_type": "code",
   "execution_count": null,
   "metadata": {},
   "outputs": [],
   "source": [
    "# Results and Best pipeline\n",
    "best_pipline_name = max(f1_results, key=f1_results.get)\n",
    "\n",
    "ax = pd.DataFrame.from_dict(f1_results, orient='index').plot.barh(figsize=(12,5))\n",
    "ax.set_xlabel(\"CV F1 Mean Scores\")\n",
    "ax.set_ylabel(\"Pipelines\")\n",
    "ax.set_title('Pipeline Training Results - best results '+ best_pipline_name)\n",
    "plt.show()"
   ]
  },
  {
   "cell_type": "code",
   "execution_count": null,
   "metadata": {},
   "outputs": [],
   "source": [
    "# Train best pipline\n",
    "best_pipline = pipeline_dict[best_pipline_name]\n",
    "best_pipline\n",
    "#best_pipeline.fit(X_train, y_train)"
   ]
  },
  {
   "cell_type": "code",
   "execution_count": null,
   "metadata": {},
   "outputs": [],
   "source": [
    "# predict on test data\n",
    "y_pred = best_pipeline.predict(X_test)"
   ]
  },
  {
   "cell_type": "code",
   "execution_count": null,
   "metadata": {
    "scrolled": true
   },
   "outputs": [],
   "source": [
    "# Print Classification Report\n",
    "print(classification_report(y_test, y_pred, target_names= y_test.columns.to_list()))"
   ]
  },
  {
   "cell_type": "markdown",
   "metadata": {},
   "source": [
    "### 6. Improve your model\n",
    "Use grid search to find better parameters. "
   ]
  },
  {
   "cell_type": "code",
   "execution_count": null,
   "metadata": {},
   "outputs": [],
   "source": [
    "myscoring = make_scorer(f1_score,average='weighted')\n",
    "\n",
    "parameters = {\n",
    "     'tfidfvect__ngram_range': ((1, 1), (1, 2)),\n",
    "     'tfidfvect__max_df': (0.5, 0.75, 1.0),\n",
    "     'tfidfvect__max_features': (None, 100, 500, 2000)\n",
    "#     'classifierchain__order' : 'random',\n",
    "#     'classifierchain__base__estimator__learning_rate': [0.01, 0.1 , 0.5, 0,8],\n",
    "#     'classifierchain__base__estimator__max_depth': [5, 10, 20],\n",
    "# #    'multiclassifier__num_leaves': 50,\n",
    "# #      'clf__min_samples_leaf': [1, 2, 4],\n",
    "# #      'clf__min_samples_split': [2, 5, 10],\n",
    "#     'classifierchain__baser__estimator__n_estimators': [100, 200, 400, 800 , 1000] \n",
    "    }\n",
    "\n",
    "# create grid search object\n",
    "search = RandomizedSearchCV(best_pipline, parameters, scoring=myscoring, n_jobs=-1)\n",
    "\n",
    "result = search.fit(X_train, y_train)\n",
    "\n",
    "# summarize result\n",
    "print('Best Score: %s' % result.best_score_)\n",
    "print('Best Hyperparameters: %s' % result.best_params_)\n",
    "\n"
   ]
  },
  {
   "cell_type": "code",
   "execution_count": null,
   "metadata": {},
   "outputs": [],
   "source": [
    "#Print grid search CV results\n",
    "means = search.cv_results_['mean_test_score']\n",
    "stds = search.cv_results_['std_test_score']\n",
    "params = search.cv_results_['params']\n",
    "for mean, stdev, param in zip(means, stds, params):\n",
    "    display(\"param search results -> %f (%f) with: %r\" % (mean, stdev, param))"
   ]
  },
  {
   "cell_type": "code",
   "execution_count": null,
   "metadata": {},
   "outputs": [],
   "source": [
    "# Best Model with tuned parameters\n",
    "set_config(display='text')\n",
    "\n",
    "best_model_tuned = search.best_estimator_\n",
    "best_model_tuned"
   ]
  },
  {
   "cell_type": "markdown",
   "metadata": {},
   "source": [
    "### 7. Test your model\n",
    "Show the accuracy, precision, and recall of the tuned model.  \n",
    "\n",
    "Since this project focuses on code quality, process, and  pipelines, there is no minimum performance metric needed to pass. However, make sure to fine tune your models for accuracy, precision and recall to make your project stand out - especially for your portfolio!"
   ]
  },
  {
   "cell_type": "code",
   "execution_count": null,
   "metadata": {},
   "outputs": [],
   "source": [
    "# Print Classification Report\n",
    "predictions = best_model_tuned.predict(X_test)\n",
    "print(classification_report(y_test, predictions, target_names= y_test.columns.to_list()))"
   ]
  },
  {
   "cell_type": "markdown",
   "metadata": {},
   "source": [
    "### 8. Try improving your model further. Here are a few ideas:\n",
    "* try other machine learning algorithms\n",
    "* add other features besides the TF-IDF"
   ]
  },
  {
   "cell_type": "code",
   "execution_count": null,
   "metadata": {},
   "outputs": [],
   "source": []
  },
  {
   "cell_type": "markdown",
   "metadata": {},
   "source": [
    "### 9. Export your model as a pickle file"
   ]
  },
  {
   "cell_type": "code",
   "execution_count": null,
   "metadata": {},
   "outputs": [],
   "source": [
    "import pickle\n",
    "\n",
    "model_dir = '../models/'\n",
    "\n",
    "#Get the date to time stamp model\n",
    "today = datetime.now()\n",
    "timestamp = today.strftime(\"%b-%d-%y-%Hh%M\")\n",
    "\n",
    "model_file = best_pipline_name+'-'+timestamp+'.pkl'\n",
    "print(\"Saving model {} to directory {}\".format(model_file,model_dir))\n",
    "pickle.dump(best_model_tuned, open(model_dir+model_file, 'wb'))"
   ]
  },
  {
   "cell_type": "markdown",
   "metadata": {},
   "source": [
    "### 10. Use this notebook to complete `train.py`\n",
    "Use the template file attached in the Resources folder to write a script that runs the steps above to create a database and export a model based on a new dataset specified by the user."
   ]
  },
  {
   "cell_type": "code",
   "execution_count": null,
   "metadata": {},
   "outputs": [],
   "source": []
  }
 ],
 "metadata": {
  "kernelspec": {
   "display_name": "Python 3",
   "language": "python",
   "name": "python3"
  },
  "language_info": {
   "codemirror_mode": {
    "name": "ipython",
    "version": 3
   },
   "file_extension": ".py",
   "mimetype": "text/x-python",
   "name": "python",
   "nbconvert_exporter": "python",
   "pygments_lexer": "ipython3",
   "version": "3.7.7"
  }
 },
 "nbformat": 4,
 "nbformat_minor": 4
}

{
 "cells": [
  {
   "cell_type": "markdown",
   "metadata": {},
   "source": [
    "# ML Pipeline Preparation\n",
    "Follow the instructions below to help you create your ML pipeline.\n",
    "### 1. Import libraries and load data from database.\n",
    "- Import Python libraries\n",
    "- Load dataset from database with [`read_sql_table`](https://pandas.pydata.org/pandas-docs/stable/generated/pandas.read_sql_table.html)\n",
    "- Define feature and target variables X and Y"
   ]
  },
  {
   "cell_type": "code",
   "execution_count": 1,
   "metadata": {},
   "outputs": [
    {
     "name": "stderr",
     "output_type": "stream",
     "text": [
      "[nltk_data] Downloading package punkt to /root/nltk_data...\n",
      "[nltk_data]   Package punkt is already up-to-date!\n",
      "[nltk_data] Downloading package wordnet to /root/nltk_data...\n",
      "[nltk_data]   Package wordnet is already up-to-date!\n",
      "[nltk_data] Downloading package stopwords to /root/nltk_data...\n",
      "[nltk_data]   Package stopwords is already up-to-date!\n"
     ]
    },
    {
     "data": {
      "text/plain": [
       "True"
      ]
     },
     "execution_count": 1,
     "metadata": {},
     "output_type": "execute_result"
    }
   ],
   "source": [
    "# import libraries\n",
    "import nltk\n",
    "from nltk.corpus import stopwords\n",
    "nltk.download(['punkt', 'wordnet','stopwords'])"
   ]
  },
  {
   "cell_type": "code",
   "execution_count": 28,
   "metadata": {},
   "outputs": [],
   "source": [
    "import os\n",
    "import re\n",
    "import time\n",
    "import numpy as np\n",
    "import pandas as pd\n",
    "import matplotlib.pyplot as plt\n",
    "%matplotlib inline\n",
    "\n",
    "from nltk.tokenize import word_tokenize\n",
    "from nltk.stem import WordNetLemmatizer\n",
    "\n",
    "import warnings\n",
    "warnings.filterwarnings('ignore')\n",
    "\n",
    "from sklearn import preprocessing\n",
    "from lightgbm import LGBMClassifier\n",
    "from sklearn.pipeline import Pipeline, FeatureUnion\n",
    "from sklearn.ensemble import RandomForestClassifier\n",
    "from sklearn.multioutput import MultiOutputClassifier\n",
    "from sklearn.metrics import confusion_matrix, classification_report, make_scorer\n",
    "from sklearn.model_selection import train_test_split, GridSearchCV, cross_val_score, RandomizedSearchCV\n",
    "from sklearn.feature_extraction.text import CountVectorizer, TfidfTransformer, TfidfVectorizer\n",
    "\n",
    "from sqlalchemy import create_engine"
   ]
  },
  {
   "cell_type": "code",
   "execution_count": 3,
   "metadata": {},
   "outputs": [],
   "source": [
    "db_path = os.path.join(os.path.abspath('../data/processed/'), 'ResponseDatabase.db')\n",
    "db_uri = 'sqlite:///{}'.format(db_path)\n",
    "\n",
    "# load data from database\n",
    "engine = create_engine(db_uri)\n",
    "df = pd.read_sql_table('ResponseTable', con=engine)\n",
    "df = df.set_index('id')\n",
    "X = df['message']\n",
    "y = df.iloc[:,3:]"
   ]
  },
  {
   "cell_type": "code",
   "execution_count": 4,
   "metadata": {},
   "outputs": [
    {
     "data": {
      "text/html": [
       "<div>\n",
       "<style scoped>\n",
       "    .dataframe tbody tr th:only-of-type {\n",
       "        vertical-align: middle;\n",
       "    }\n",
       "\n",
       "    .dataframe tbody tr th {\n",
       "        vertical-align: top;\n",
       "    }\n",
       "\n",
       "    .dataframe thead th {\n",
       "        text-align: right;\n",
       "    }\n",
       "</style>\n",
       "<table border=\"1\" class=\"dataframe\">\n",
       "  <thead>\n",
       "    <tr style=\"text-align: right;\">\n",
       "      <th></th>\n",
       "      <th>message</th>\n",
       "      <th>original</th>\n",
       "      <th>genre</th>\n",
       "      <th>related</th>\n",
       "      <th>request</th>\n",
       "      <th>offer</th>\n",
       "      <th>aid_related</th>\n",
       "      <th>medical_help</th>\n",
       "      <th>medical_products</th>\n",
       "      <th>search_and_rescue</th>\n",
       "      <th>...</th>\n",
       "      <th>aid_centers</th>\n",
       "      <th>other_infrastructure</th>\n",
       "      <th>weather_related</th>\n",
       "      <th>floods</th>\n",
       "      <th>storm</th>\n",
       "      <th>fire</th>\n",
       "      <th>earthquake</th>\n",
       "      <th>cold</th>\n",
       "      <th>other_weather</th>\n",
       "      <th>direct_report</th>\n",
       "    </tr>\n",
       "    <tr>\n",
       "      <th>id</th>\n",
       "      <th></th>\n",
       "      <th></th>\n",
       "      <th></th>\n",
       "      <th></th>\n",
       "      <th></th>\n",
       "      <th></th>\n",
       "      <th></th>\n",
       "      <th></th>\n",
       "      <th></th>\n",
       "      <th></th>\n",
       "      <th></th>\n",
       "      <th></th>\n",
       "      <th></th>\n",
       "      <th></th>\n",
       "      <th></th>\n",
       "      <th></th>\n",
       "      <th></th>\n",
       "      <th></th>\n",
       "      <th></th>\n",
       "      <th></th>\n",
       "      <th></th>\n",
       "    </tr>\n",
       "  </thead>\n",
       "  <tbody>\n",
       "    <tr>\n",
       "      <th>2</th>\n",
       "      <td>Weather update - a cold front from Cuba that c...</td>\n",
       "      <td>Un front froid se retrouve sur Cuba ce matin. ...</td>\n",
       "      <td>direct</td>\n",
       "      <td>1</td>\n",
       "      <td>0</td>\n",
       "      <td>0</td>\n",
       "      <td>0</td>\n",
       "      <td>0</td>\n",
       "      <td>0</td>\n",
       "      <td>0</td>\n",
       "      <td>...</td>\n",
       "      <td>0</td>\n",
       "      <td>0</td>\n",
       "      <td>0</td>\n",
       "      <td>0</td>\n",
       "      <td>0</td>\n",
       "      <td>0</td>\n",
       "      <td>0</td>\n",
       "      <td>0</td>\n",
       "      <td>0</td>\n",
       "      <td>0</td>\n",
       "    </tr>\n",
       "    <tr>\n",
       "      <th>7</th>\n",
       "      <td>Is the Hurricane over or is it not over</td>\n",
       "      <td>Cyclone nan fini osinon li pa fini</td>\n",
       "      <td>direct</td>\n",
       "      <td>1</td>\n",
       "      <td>0</td>\n",
       "      <td>0</td>\n",
       "      <td>1</td>\n",
       "      <td>0</td>\n",
       "      <td>0</td>\n",
       "      <td>0</td>\n",
       "      <td>...</td>\n",
       "      <td>0</td>\n",
       "      <td>0</td>\n",
       "      <td>1</td>\n",
       "      <td>0</td>\n",
       "      <td>1</td>\n",
       "      <td>0</td>\n",
       "      <td>0</td>\n",
       "      <td>0</td>\n",
       "      <td>0</td>\n",
       "      <td>0</td>\n",
       "    </tr>\n",
       "    <tr>\n",
       "      <th>8</th>\n",
       "      <td>Looking for someone but no name</td>\n",
       "      <td>Patnm, di Maryani relem pou li banm nouvel li ...</td>\n",
       "      <td>direct</td>\n",
       "      <td>1</td>\n",
       "      <td>0</td>\n",
       "      <td>0</td>\n",
       "      <td>0</td>\n",
       "      <td>0</td>\n",
       "      <td>0</td>\n",
       "      <td>0</td>\n",
       "      <td>...</td>\n",
       "      <td>0</td>\n",
       "      <td>0</td>\n",
       "      <td>0</td>\n",
       "      <td>0</td>\n",
       "      <td>0</td>\n",
       "      <td>0</td>\n",
       "      <td>0</td>\n",
       "      <td>0</td>\n",
       "      <td>0</td>\n",
       "      <td>0</td>\n",
       "    </tr>\n",
       "    <tr>\n",
       "      <th>9</th>\n",
       "      <td>UN reports Leogane 80-90 destroyed. Only Hospi...</td>\n",
       "      <td>UN reports Leogane 80-90 destroyed. Only Hospi...</td>\n",
       "      <td>direct</td>\n",
       "      <td>1</td>\n",
       "      <td>1</td>\n",
       "      <td>0</td>\n",
       "      <td>1</td>\n",
       "      <td>0</td>\n",
       "      <td>1</td>\n",
       "      <td>0</td>\n",
       "      <td>...</td>\n",
       "      <td>0</td>\n",
       "      <td>0</td>\n",
       "      <td>0</td>\n",
       "      <td>0</td>\n",
       "      <td>0</td>\n",
       "      <td>0</td>\n",
       "      <td>0</td>\n",
       "      <td>0</td>\n",
       "      <td>0</td>\n",
       "      <td>0</td>\n",
       "    </tr>\n",
       "    <tr>\n",
       "      <th>12</th>\n",
       "      <td>says: west side of Haiti, rest of the country ...</td>\n",
       "      <td>facade ouest d Haiti et le reste du pays aujou...</td>\n",
       "      <td>direct</td>\n",
       "      <td>1</td>\n",
       "      <td>0</td>\n",
       "      <td>0</td>\n",
       "      <td>0</td>\n",
       "      <td>0</td>\n",
       "      <td>0</td>\n",
       "      <td>0</td>\n",
       "      <td>...</td>\n",
       "      <td>0</td>\n",
       "      <td>0</td>\n",
       "      <td>0</td>\n",
       "      <td>0</td>\n",
       "      <td>0</td>\n",
       "      <td>0</td>\n",
       "      <td>0</td>\n",
       "      <td>0</td>\n",
       "      <td>0</td>\n",
       "      <td>0</td>\n",
       "    </tr>\n",
       "  </tbody>\n",
       "</table>\n",
       "<p>5 rows × 39 columns</p>\n",
       "</div>"
      ],
      "text/plain": [
       "                                              message  \\\n",
       "id                                                      \n",
       "2   Weather update - a cold front from Cuba that c...   \n",
       "7             Is the Hurricane over or is it not over   \n",
       "8                     Looking for someone but no name   \n",
       "9   UN reports Leogane 80-90 destroyed. Only Hospi...   \n",
       "12  says: west side of Haiti, rest of the country ...   \n",
       "\n",
       "                                             original   genre  related  \\\n",
       "id                                                                       \n",
       "2   Un front froid se retrouve sur Cuba ce matin. ...  direct        1   \n",
       "7                  Cyclone nan fini osinon li pa fini  direct        1   \n",
       "8   Patnm, di Maryani relem pou li banm nouvel li ...  direct        1   \n",
       "9   UN reports Leogane 80-90 destroyed. Only Hospi...  direct        1   \n",
       "12  facade ouest d Haiti et le reste du pays aujou...  direct        1   \n",
       "\n",
       "    request  offer  aid_related  medical_help  medical_products  \\\n",
       "id                                                                \n",
       "2         0      0            0             0                 0   \n",
       "7         0      0            1             0                 0   \n",
       "8         0      0            0             0                 0   \n",
       "9         1      0            1             0                 1   \n",
       "12        0      0            0             0                 0   \n",
       "\n",
       "    search_and_rescue  ...  aid_centers  other_infrastructure  \\\n",
       "id                     ...                                      \n",
       "2                   0  ...            0                     0   \n",
       "7                   0  ...            0                     0   \n",
       "8                   0  ...            0                     0   \n",
       "9                   0  ...            0                     0   \n",
       "12                  0  ...            0                     0   \n",
       "\n",
       "    weather_related  floods  storm  fire  earthquake  cold  other_weather  \\\n",
       "id                                                                          \n",
       "2                 0       0      0     0           0     0              0   \n",
       "7                 1       0      1     0           0     0              0   \n",
       "8                 0       0      0     0           0     0              0   \n",
       "9                 0       0      0     0           0     0              0   \n",
       "12                0       0      0     0           0     0              0   \n",
       "\n",
       "    direct_report  \n",
       "id                 \n",
       "2               0  \n",
       "7               0  \n",
       "8               0  \n",
       "9               0  \n",
       "12              0  \n",
       "\n",
       "[5 rows x 39 columns]"
      ]
     },
     "execution_count": 4,
     "metadata": {},
     "output_type": "execute_result"
    }
   ],
   "source": [
    "df.head()"
   ]
  },
  {
   "cell_type": "markdown",
   "metadata": {},
   "source": [
    "### 2. Write a tokenization function to process your text data"
   ]
  },
  {
   "cell_type": "code",
   "execution_count": 5,
   "metadata": {},
   "outputs": [],
   "source": [
    "def tokenize(text):\n",
    "    #normalize - Remove punctuation characters\n",
    "    regex = '[^a-zA-Z0-9]'\n",
    "    detect_text = re.findall(regex, text)\n",
    "\n",
    "    #tokenize - split text into words\n",
    "    for list in text:\n",
    "        list = text.replace(regex,\" \")\n",
    "        tokens = word_tokenize(list)\n",
    "\n",
    "    # Remove Stopwords\n",
    "    words = [word for word in tokens if word not in stopwords.words('english')]\n",
    "\n",
    "    #lemanize\n",
    "    lemmatizer = WordNetLemmatizer()\n",
    "    clean_tokens = []\n",
    "\n",
    "    for word in words:\n",
    "        clean_tok = lemmatizer.lemmatize(word).lower().strip()\n",
    "        clean_tokens.append(clean_tok)\n",
    "\n",
    "    return clean_tokens"
   ]
  },
  {
   "cell_type": "markdown",
   "metadata": {},
   "source": [
    "### 3. Build a machine learning pipeline\n",
    "This machine pipeline should take in the `message` column as input and output classification results on the other 36 categories in the dataset. You may find the [MultiOutputClassifier](http://scikit-learn.org/stable/modules/generated/sklearn.multioutput.MultiOutputClassifier.html) helpful for predicting multiple target variables."
   ]
  },
  {
   "cell_type": "code",
   "execution_count": 6,
   "metadata": {},
   "outputs": [],
   "source": [
    "# Random Forest Classifier - pipeline\n",
    "pipeline_rf = Pipeline([\n",
    "    ('vect', CountVectorizer(tokenizer=tokenize)),\n",
    "    ('tfidf', TfidfTransformer()),\n",
    "    ('clf', MultiOutputClassifier(RandomForestClassifier(n_jobs=5)))\n",
    "])\n",
    "\n",
    "pipeline_lgb = Pipeline([\n",
    "    ('tfidfvect', TfidfVectorizer(tokenizer=tokenize)),\n",
    "    ('multiclassifier',MultiOutputClassifier(LGBMClassifier(n_jobs=5)))\n",
    "])"
   ]
  },
  {
   "cell_type": "code",
   "execution_count": 7,
   "metadata": {},
   "outputs": [],
   "source": [
    "# Pipeline dictionary\n",
    "pipeline_dict = {'pipeline_rf': pipeline_rf, \\\n",
    "                 'pipeline_lgb ': pipeline_lgb }"
   ]
  },
  {
   "cell_type": "markdown",
   "metadata": {},
   "source": [
    "### 4. Train various pipelines\n",
    "- Split data into train and test sets\n",
    "- Train pipeline"
   ]
  },
  {
   "cell_type": "code",
   "execution_count": 8,
   "metadata": {},
   "outputs": [],
   "source": [
    "X_train, X_test, y_train, y_test = train_test_split(X, y, test_size=0.2, random_state=42)"
   ]
  },
  {
   "cell_type": "code",
   "execution_count": 9,
   "metadata": {},
   "outputs": [],
   "source": [
    "def display_scores(model_dict, X_train, y_train):\n",
    "    \n",
    "    \"\"\"\n",
    "    Function for applying the cross validation score\n",
    "    \n",
    "    Parameters:\n",
    "    \n",
    "    model, X_train, y_train\n",
    "    \n",
    "    Returns:\n",
    "    \n",
    "    f1 - Scores and Average\n",
    "    \n",
    "    \"\"\"\n",
    "    \n",
    "    # cross validation for F1 score\n",
    "    results = {} \n",
    "\n",
    "    for pipename, pipevalue in pipeline_dict.items() :\n",
    "        start_time = time.time()\n",
    "        print (\"Training pipeline : {} ...\".format(pipename))\n",
    "        scores = cross_val_score(pipevalue, X_train, y_train, scoring='f1_weighted', cv=5)\n",
    "        results[pipename] = scores.mean()\n",
    "        print (\"Pipeline : {} F1 mean score {}\".format(pipename, scores.mean()))\n",
    "        time_taken = round(((time.time() - start_time) / 60),3)\n",
    "        print(\"--- \" + str(time_taken) + \" minutes ---\")\n",
    "        \n",
    "    return results"
   ]
  },
  {
   "cell_type": "code",
   "execution_count": 10,
   "metadata": {},
   "outputs": [
    {
     "name": "stdout",
     "output_type": "stream",
     "text": [
      "Training pipeline : pipeline_rf ...\n",
      "Pipeline : pipeline_rf F1 mean score 0.5595096562062828\n",
      "--- 135.948 minutes ---\n",
      "Training pipeline : pipeline_lgb  ...\n",
      "Pipeline : pipeline_lgb  F1 mean score 0.6512710873914509\n",
      "--- 133.2 minutes ---\n"
     ]
    }
   ],
   "source": [
    "pipeline_f1_score = display_scores(pipeline_dict, X_train, y_train)"
   ]
  },
  {
   "cell_type": "code",
   "execution_count": 11,
   "metadata": {},
   "outputs": [
    {
     "data": {
      "text/plain": [
       "{'pipeline_rf': 0.5595096562062828, 'pipeline_lgb ': 0.6512710873914509}"
      ]
     },
     "execution_count": 11,
     "metadata": {},
     "output_type": "execute_result"
    }
   ],
   "source": [
    "pipeline_f1_score"
   ]
  },
  {
   "cell_type": "markdown",
   "metadata": {},
   "source": [
    "### 5. Test your model\n",
    "Report the f1 score, precision and recall for each output category of the dataset. You can do this by iterating through the columns and calling sklearn's `classification_report` on each."
   ]
  },
  {
   "cell_type": "code",
   "execution_count": 17,
   "metadata": {},
   "outputs": [
    {
     "data": {
      "image/png": "[encoded data removed]",
      "text/plain": [
       "<Figure size 864x360 with 1 Axes>"
      ]
     },
     "metadata": {
      "needs_background": "light"
     },
     "output_type": "display_data"
    }
   ],
   "source": [
    "# Results and Best pipeline\n",
    "best_pipline_name = max(pipeline_f1_score, key=pipeline_f1_score.get)\n",
    "\n",
    "ax = pd.DataFrame.from_dict(pipeline_f1_score, orient='index').plot.barh(figsize=(12,5))\n",
    "ax.set_xlabel(\"CV F1 Mean Scores\")\n",
    "ax.set_ylabel(\"Pipelines\")\n",
    "ax.set_title('Pipeline Training Results - best results '+ best_pipline_name)\n",
    "plt.show()"
   ]
  },
  {
   "cell_type": "code",
   "execution_count": 19,
   "metadata": {},
   "outputs": [],
   "source": [
    "# Train best pipline\n",
    "best_pipline = pipeline_dict[best_pipline_name]"
   ]
  },
  {
   "cell_type": "code",
   "execution_count": 21,
   "metadata": {},
   "outputs": [
    {
     "data": {
      "text/plain": [
       "Pipeline(steps=[('tfidfvect',\n",
       "                 TfidfVectorizer(tokenizer=<function tokenize at 0x7f64bb4fd200>)),\n",
       "                ('multiclassifier',\n",
       "                 MultiOutputClassifier(estimator=LGBMClassifier(n_jobs=5)))])"
      ]
     },
     "execution_count": 21,
     "metadata": {},
     "output_type": "execute_result"
    }
   ],
   "source": [
    "best_pipline.fit(X_train, y_train)"
   ]
  },
  {
   "cell_type": "code",
   "execution_count": 23,
   "metadata": {},
   "outputs": [],
   "source": [
    "# predict on test data\n",
    "y_pred = best_pipline.predict(X_test)"
   ]
  },
  {
   "cell_type": "code",
   "execution_count": 24,
   "metadata": {
    "scrolled": true
   },
   "outputs": [
    {
     "name": "stdout",
     "output_type": "stream",
     "text": [
      "                        precision    recall  f1-score   support\n",
      "\n",
      "               related       0.86      0.93      0.89      3998\n",
      "               request       0.81      0.58      0.68       891\n",
      "                 offer       0.00      0.00      0.00        24\n",
      "           aid_related       0.78      0.67      0.72      2164\n",
      "          medical_help       0.65      0.31      0.42       435\n",
      "      medical_products       0.69      0.31      0.43       279\n",
      "     search_and_rescue       0.63      0.19      0.29       136\n",
      "              security       0.17      0.01      0.02        96\n",
      "              military       0.54      0.32      0.40       158\n",
      "           child_alone       0.00      0.00      0.00         0\n",
      "                 water       0.76      0.67      0.71       335\n",
      "                  food       0.82      0.80      0.81       584\n",
      "               shelter       0.76      0.61      0.68       468\n",
      "              clothing       0.74      0.44      0.55        70\n",
      "                 money       0.58      0.29      0.38       112\n",
      "        missing_people       0.75      0.19      0.30        63\n",
      "              refugees       0.63      0.25      0.36       170\n",
      "                 death       0.80      0.50      0.61       247\n",
      "             other_aid       0.62      0.16      0.26       692\n",
      "infrastructure_related       0.46      0.08      0.13       336\n",
      "             transport       0.67      0.20      0.30       235\n",
      "             buildings       0.76      0.38      0.50       269\n",
      "           electricity       0.65      0.24      0.35       115\n",
      "                 tools       1.00      0.06      0.11        35\n",
      "             hospitals       0.40      0.08      0.13        52\n",
      "                 shops       0.00      0.00      0.00        25\n",
      "           aid_centers       0.43      0.05      0.08        64\n",
      "  other_infrastructure       0.43      0.05      0.09       225\n",
      "       weather_related       0.85      0.74      0.79      1472\n",
      "                floods       0.90      0.57      0.70       431\n",
      "                 storm       0.74      0.68      0.71       479\n",
      "                  fire       0.70      0.26      0.38        53\n",
      "            earthquake       0.89      0.80      0.84       515\n",
      "                  cold       0.53      0.31      0.39       104\n",
      "         other_weather       0.55      0.16      0.25       267\n",
      "         direct_report       0.74      0.46      0.57      1010\n",
      "\n",
      "             micro avg       0.80      0.61      0.69     16609\n",
      "             macro avg       0.62      0.34      0.41     16609\n",
      "          weighted avg       0.76      0.61      0.66     16609\n",
      "           samples avg       0.63      0.52      0.53     16609\n",
      "\n"
     ]
    }
   ],
   "source": [
    "# Print Classification Report\n",
    "print(classification_report(y_test, y_pred, target_names= y_test.columns.to_list()))"
   ]
  },
  {
   "cell_type": "markdown",
   "metadata": {},
   "source": [
    "### 6. Improve your model\n",
    "Use grid search to find better parameters. "
   ]
  },
  {
   "cell_type": "code",
   "execution_count": null,
   "metadata": {},
   "outputs": [],
   "source": [
    "myscoring = make_scorer(pipeline_f1_score,average='weighted')\n",
    "\n",
    "parameters = {\n",
    "     'tfidfvect__ngram_range': ((1, 1), (1, 2)),\n",
    "     'tfidfvect__max_df': (0.5, 0.75, 1.0),\n",
    "     'tfidfvect__max_features': (None, 100, 500, 2000)\n",
    "#     'classifierchain__order' : 'random',\n",
    "#     'classifierchain__base__estimator__learning_rate': [0.01, 0.1 , 0.5, 0,8],\n",
    "#     'classifierchain__base__estimator__max_depth': [5, 10, 20],\n",
    "# #    'multiclassifier__num_leaves': 50,\n",
    "# #      'clf__min_samples_leaf': [1, 2, 4],\n",
    "# #      'clf__min_samples_split': [2, 5, 10],\n",
    "#     'classifierchain__baser__estimator__n_estimators': [100, 200, 400, 800 , 1000] \n",
    "    }\n",
    "\n",
    "# create grid search object\n",
    "search = RandomizedSearchCV(best_pipline, parameters, scoring=myscoring, n_jobs=-1)\n",
    "\n",
    "result = search.fit(X_train, y_train)\n",
    "\n",
    "# summarize result\n",
    "print('Best Score: %s' % result.best_score_)\n",
    "print('Best Hyperparameters: %s' % result.best_params_)"
   ]
  },
  {
   "cell_type": "code",
   "execution_count": null,
   "metadata": {},
   "outputs": [],
   "source": [
    "#Print grid search CV results\n",
    "means = search.cv_results_['mean_test_score']\n",
    "stds = search.cv_results_['std_test_score']\n",
    "params = search.cv_results_['params']\n",
    "for mean, stdev, param in zip(means, stds, params):\n",
    "    display(\"param search results -> %f (%f) with: %r\" % (mean, stdev, param))"
   ]
  },
  {
   "cell_type": "code",
   "execution_count": null,
   "metadata": {},
   "outputs": [],
   "source": [
    "# Best Model with tuned parameters\n",
    "set_config(display='text')\n",
    "\n",
    "best_model_tuned = search.best_estimator_\n",
    "best_model_tuned"
   ]
  },
  {
   "cell_type": "markdown",
   "metadata": {},
   "source": [
    "### 7. Test your model\n",
    "Show the accuracy, precision, and recall of the tuned model.  \n",
    "\n",
    "Since this project focuses on code quality, process, and  pipelines, there is no minimum performance metric needed to pass. However, make sure to fine tune your models for accuracy, precision and recall to make your project stand out - especially for your portfolio!"
   ]
  },
  {
   "cell_type": "code",
   "execution_count": null,
   "metadata": {},
   "outputs": [],
   "source": [
    "# Print Classification Report\n",
    "predictions = best_model_tuned.predict(X_test)\n",
    "print(classification_report(y_test, predictions, target_names= y_test.columns.to_list()))"
   ]
  },
  {
   "cell_type": "markdown",
   "metadata": {},
   "source": [
    "### 8. Try improving your model further. Here are a few ideas:\n",
    "* try other machine learning algorithms\n",
    "* add other features besides the TF-IDF"
   ]
  },
  {
   "cell_type": "code",
   "execution_count": null,
   "metadata": {},
   "outputs": [],
   "source": []
  },
  {
   "cell_type": "markdown",
   "metadata": {},
   "source": [
    "### 9. Export your model as a pickle file"
   ]
  },
  {
   "cell_type": "code",
   "execution_count": null,
   "metadata": {},
   "outputs": [],
   "source": [
    "import pickle\n",
    "\n",
    "model_dir = '../models/'\n",
    "\n",
    "#Get the date to time stamp model\n",
    "today = datetime.now()\n",
    "timestamp = today.strftime(\"%b-%d-%y-%Hh%M\")\n",
    "\n",
    "model_file = best_pipline_name+'-'+timestamp+'.pkl'\n",
    "print(\"Saving model {} to directory {}\".format(model_file,model_dir))\n",
    "pickle.dump(best_model_tuned, open(model_dir+model_file, 'wb'))"
   ]
  },
  {
   "cell_type": "markdown",
   "metadata": {},
   "source": [
    "### 10. Use this notebook to complete `train.py`\n",
    "Use the template file attached in the Resources folder to write a script that runs the steps above to create a database and export a model based on a new dataset specified by the user."
   ]
  },
  {
   "cell_type": "code",
   "execution_count": null,
   "metadata": {},
   "outputs": [],
   "source": []
  }
 ],
 "metadata": {
  "kernelspec": {
   "display_name": "Python 3",
   "language": "python",
   "name": "python3"
  },
  "language_info": {
   "codemirror_mode": {
    "name": "ipython",
    "version": 3
   },
   "file_extension": ".py",
   "mimetype": "text/x-python",
   "name": "python",
   "nbconvert_exporter": "python",
   "pygments_lexer": "ipython3",
   "version": "3.7.7"
  }
 },
 "nbformat": 4,
 "nbformat_minor": 4
}
